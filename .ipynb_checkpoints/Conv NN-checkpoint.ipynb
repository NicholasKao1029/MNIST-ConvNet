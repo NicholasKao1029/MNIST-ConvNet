{
 "cells": [
  {
   "cell_type": "code",
   "execution_count": 2,
   "metadata": {},
   "outputs": [],
   "source": [
    "import os \n",
    "import cv2 \n",
    "import numpy as np \n",
    "from tqdm import tqdm                "
   ]
  },
  {
   "cell_type": "markdown",
   "metadata": {},
   "source": [
    "## Data processing \n",
    "\n",
    "- need to normalize image size\n",
    "- not all photos are square (most aren't)\n",
    "- largest axis will be set, the other will be set based on the original dimensions\n",
    "- instead could just pad the the missing space"
   ]
  },
  {
   "cell_type": "markdown",
   "metadata": {},
   "source": [
    "## CONV NN and Pooling\n",
    "\n",
    "- decomposing the image into more simple layers, idea is to detect certain features. \n",
    "- Each layer progressively the features will increase in complexity, based on the previous gain in feature complexity.\n",
    "\n",
    "- CONV net's can take more than 1 dimensional inputs,\n",
    "\n",
    "- sliding window on the kernel."
   ]
  },
  {
   "cell_type": "code",
   "execution_count": 7,
   "metadata": {},
   "outputs": [
    {
     "name": "stderr",
     "output_type": "stream",
     "text": [
      "  1%|          | 94/12501 [00:00<00:13, 931.11it/s]"
     ]
    },
    {
     "name": "stdout",
     "output_type": "stream",
     "text": [
      "PetImages/Cat\n"
     ]
    },
    {
     "name": "stderr",
     "output_type": "stream",
     "text": [
      "100%|██████████| 12501/12501 [00:13<00:00, 937.79it/s]\n",
      "  1%|          | 80/12501 [00:00<00:15, 784.75it/s]"
     ]
    },
    {
     "name": "stdout",
     "output_type": "stream",
     "text": [
      "PetImages/Dog\n"
     ]
    },
    {
     "name": "stderr",
     "output_type": "stream",
     "text": [
      "100%|██████████| 12501/12501 [00:14<00:00, 886.14it/s]\n"
     ]
    },
    {
     "name": "stdout",
     "output_type": "stream",
     "text": [
      "Cats: 12476\n",
      "Dogs: 12470\n"
     ]
    }
   ],
   "source": [
    "REBUILD_DATA = False \n",
    "\n",
    "class DogsVSCats():\n",
    "    IMG_SIZE = 50\n",
    "    CATS_PATH = \"PetImages/Cat\"\n",
    "    DOGS_PATH = \"PetImages/Dog\"\n",
    "    LABELS = {CATS_PATH:0, DOGS_PATH: 1}\n",
    "    training_data = []\n",
    "    catcount = 0 \n",
    "    dogcount = 0 \n",
    "    \n",
    "    def make_training_data(self):\n",
    "        for label in self.LABELS:\n",
    "            \n",
    "            # label is the key in the LABEL dictionary \n",
    "                # path from the current directory \n",
    "                # labels split based on folder\n",
    "            print(label)\n",
    "            for f in tqdm(os.listdir(label)):\n",
    "                try:\n",
    "                    #tqdm is a module that visualizes a loading bar to see progress \n",
    "                    #os.listdir(label) return list of all the file names from the path\n",
    "                    # iterate through the file paths creating a path so we can read the image\n",
    "                    path = os.path.join(label , f)\n",
    "\n",
    "                    #read image from the path created\n",
    "                    #black and white photo just for simplicity, input layer has 1 layer instead of 3\n",
    "                    img = cv2.imread(path, cv2.IMREAD_GRAYSCALE)\n",
    "\n",
    "                    # resize image with open cv module\n",
    "                    img = cv2.resize(img, (self.IMG_SIZE, self.IMG_SIZE))\n",
    "\n",
    "                    # labeling step\n",
    "                        # label image with a vector\n",
    "                        # there are two classes so create Identity matrix with np.eye(num_classes) and index (by row) based on our label\n",
    "                        # e.g. with a cat photo since we have cat:0 the correct label is thus a vector with a 1 in the 0 index [1,0]\n",
    "                        # aka confidence that it's a cat is 1 and probability it's a dog is 0 and vice versa\n",
    "                        # labelling method called \"one-hot-vector\"\n",
    "                    self.training_data.append([np.array(img), np.eye(2)[self.LABELS[label]]])\n",
    "\n",
    "\n",
    "                    # count num of samples as to make sure we have balanced data\n",
    "                    # throw away if distribution is heavily skewed towards one or the other\n",
    "                    # compare based on relative amount of classes\n",
    "                    if label == self.CATS_PATH:\n",
    "                        self.catcount += 1\n",
    "                    elif label == self.DOGS_PATH:\n",
    "                        self.dogcount += 1\n",
    "                        \n",
    "                except Exception as e:\n",
    "                    # possible image corruption\n",
    "                    # print(str(e))\n",
    "                    pass\n",
    "        # shuffle data so obvi not all just cats then dogs\n",
    "        np.random.shuffle(self.training_data)\n",
    "        # save so don't have to process data again\n",
    "        np.save(\"training_data.npy\", self.training_data)\n",
    "        print('Cats:', self.catcount)\n",
    "        print(\"Dogs:\", self.dogcount)\n",
    "\n",
    "if REBUILD_DATA:\n",
    "    dogsvcats = DogsVSCats()\n",
    "    dogsvcats.make_training_data()\n",
    "                "
   ]
  },
  {
   "cell_type": "code",
   "execution_count": 12,
   "metadata": {
    "scrolled": false
   },
   "outputs": [],
   "source": [
    "training_data = np.load('training_data.npy', allow_pickle = True)"
   ]
  },
  {
   "cell_type": "code",
   "execution_count": 13,
   "metadata": {},
   "outputs": [
    {
     "name": "stdout",
     "output_type": "stream",
     "text": [
      "24946\n",
      "[array([[124, 119, 116, ..., 130, 108, 108],\n",
      "       [116, 129, 120, ..., 109, 115, 143],\n",
      "       [170, 191, 198, ..., 120, 113, 120],\n",
      "       ...,\n",
      "       [  7,  54,  33, ...,  87, 144, 144],\n",
      "       [  9,  43,  47, ..., 130, 172,  72],\n",
      "       [  9,  22,  54, ..., 177, 115, 147]], dtype=uint8)\n",
      " array([0., 1.])]\n"
     ]
    }
   ],
   "source": [
    "print(len(training_data))"
   ]
  },
  {
   "cell_type": "code",
   "execution_count": 28,
   "metadata": {},
   "outputs": [
    {
     "data": {
      "text/plain": [
       "<matplotlib.image.AxesImage at 0x185afac4408>"
      ]
     },
     "execution_count": 28,
     "metadata": {},
     "output_type": "execute_result"
    },
    {
     "data": {
      "image/png": "[encoded data removed]",
      "text/plain": [
       "<Figure size 432x288 with 1 Axes>"
      ]
     },
     "metadata": {
      "needs_background": "light"
     },
     "output_type": "display_data"
    }
   ],
   "source": [
    "import matplotlib.pyplot as plt \n",
    "\n",
    "plt.imshow(training_data[0][0], cmap = \"gray\")\n",
    "\n",
    "#training_data.shape = (24946,2)\n",
    "#training_data[1].shape = (2,) represents the image and it's label\n"
   ]
  },
  {
   "cell_type": "code",
   "execution_count": null,
   "metadata": {},
   "outputs": [],
   "source": []
  }
 ],
 "metadata": {
  "kernelspec": {
   "display_name": "Python 3",
   "language": "python",
   "name": "python3"
  },
  "language_info": {
   "codemirror_mode": {
    "name": "ipython",
    "version": 3
   },
   "file_extension": ".py",
   "mimetype": "text/x-python",
   "name": "python",
   "nbconvert_exporter": "python",
   "pygments_lexer": "ipython3",
   "version": "3.7.6"
  }
 },
 "nbformat": 4,
 "nbformat_minor": 4
}
