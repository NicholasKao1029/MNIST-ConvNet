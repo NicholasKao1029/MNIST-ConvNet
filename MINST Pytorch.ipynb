{
 "cells": [
  {
   "cell_type": "code",
   "execution_count": 50,
   "metadata": {},
   "outputs": [],
   "source": [
    "import torch \n",
    "import torchvision \n",
    "from torchvision import transforms, datasets\n",
    "import matplotlib.pyplot as plt\n",
    "import torch.nn as nn \n",
    "import torch.nn.functional as F\n",
    "import torch.optim as optim\n",
    "import time"
   ]
  },
  {
   "cell_type": "markdown",
   "metadata": {},
   "source": [
    "## Overview\n",
    "\n",
    "- MNIST dataset \n",
    "    - hand drawn digits \n",
    "    - black and white images\n",
    "    - NN's on this dataset are considered the \"hello world\" of NN\n",
    "    - each image is a 28 X 28 pixel image = 784 pixels\n",
    "    - each pixel corresponds to an input in the input layer\n",
    "    - each pixel has a value of 0-255 traditionally, but is normalized to fit in between a value of 0-1\n",
    "    - each image has a corresponding label that identifies which digit out of the 10 possible it represents\n",
    "    \n",
    "    \n",
    "- Using Pytorch already cleaned MNIST dataset, have my neural networ try to learn to recognize hand written digits and classify them as accurately as possible.  \n",
    "\n",
    "### Splitting data \n",
    "\n",
    "- Neural Net's learn from the data that is fed to them, they essentially try to minimize a cost function which is based on the outputs it's predicts and the actual values that are correct.\n",
    "\n",
    "- So to make sure that our neural net is learning to be able to generalize across hand written digits instead of \"overfitting\" and simply learning the particular dataset it's being trained on. The data that we have must be split into two groups (can be 3, I believe, but 2 is neccessary). \n",
    "    - Training data, usually 70%-80% of the entire data set. This is the data that will be used to learn from\n",
    "    - Testing data, seperate from the training data, this set will be used to evaluate how well our neural network is performing on \"out of sample data\" or data it hasn't seen yet. True indicator of ability of recognition.\n",
    "   \n",
    "### Data cleanliness\n",
    "\n",
    "- This is very unrealistic of real world data, this data has been manipulated to be in a form that is perfect to use with PyTorch and can be used essentially immediately. Much of the work and time you put in will be making real world data usable, transform into a form that will allow to conduct learning from. But this is a good starting point.\n",
    "\n",
    "- Another point to think about is the fact that if our data has e.g. 55% 3's and 5% for each of the other digits, the quickest way to decrease lost generally speaking is to guess 3 more of the time, which is a terrible thing for generlization but great to reduce cost based on the data set. Which is how the NN determines how to change the parameters of the model.\n",
    "    - This is an issue of BALANCE"
   ]
  },
  {
   "cell_type": "code",
   "execution_count": 51,
   "metadata": {},
   "outputs": [],
   "source": [
    "train = datasets.MNIST(\"\", train=True, download=True, transform = transforms.Compose([transforms.ToTensor()]))\n",
    "\n",
    "test =  datasets.MNIST(\"\", train=False, download=True, transform = transforms.Compose([transforms.ToTensor()]))\n"
   ]
  },
  {
   "cell_type": "markdown",
   "metadata": {},
   "source": [
    "# BatchSize and Shuffle \n",
    "\n",
    "### BatchSize\n",
    "\n",
    "- This particular dataset is not particularly large in terms of the memory on disk, however this is not always the case and in general when trying to learn new things, the larger our data set the better it is for our neural net to learn. So BatchSize is the size that we will use to determine Gradient Descent (GD). \n",
    "    - There is a trade off occuring here\n",
    "        - Basically the batch will determine the way to change our weights and biases as to minimize our cost function.\n",
    "        - Since it is only a small sample out of the entire data set, it is not guarenteed or even likely that the change will minimize the cost of the entire sample perfectl. However it will probably over many iterations give a pretty good direction to the minimum of the cost function, while not needing to process the entire data set. So the time gained from not needing to process the entire data set will pay for the fact we are not optimizing our change of weights to minimize the cost function.\n",
    "        \n",
    "        \n",
    "        \n",
    "\n",
    "### Shuffle \n",
    "\n",
    "- The MNIST data set could have each of the samples grouped based on the classification, e.g. all the 2's are together then 4's etc. As a result if our neural net is trained with the samples in this particular order. It will optimize at first to classify all digits as a 2 because that's all it has ever seen and known. Then when the 2's are exhausted and 4's show up it will have to radically change the weights, as it had no reason not to classify everything it saw as a 2. \n",
    "\n",
    "- Our goal is to have our Neural network be able to generally learn to recognize hand written digits. So we should try and help it as much as possible, because it is basically just trying to minimize a cost function and if that function is basically saying call everything a 2 it will do that. \n",
    "\n",
    "- Shuffle allows it to see a wider range of the data set, spread out better. Because the model doesn't know how good it can get and will not think ahead, instead it will simply try to decrease the cost as much as possible right now based on what it knows."
   ]
  },
  {
   "cell_type": "code",
   "execution_count": 52,
   "metadata": {},
   "outputs": [],
   "source": [
    "trainset = torch.utils.data.DataLoader(train, batch_size = 10, shuffle = True)\n",
    "testset = torch.utils.data.DataLoader(test, batch_size = 10, shuffle = True)"
   ]
  },
  {
   "cell_type": "code",
   "execution_count": 53,
   "metadata": {},
   "outputs": [
    {
     "name": "stdout",
     "output_type": "stream",
     "text": [
      "<class 'torch.utils.data.dataloader.DataLoader'>\n",
      "[tensor([[[[0., 0., 0.,  ..., 0., 0., 0.],\n",
      "          [0., 0., 0.,  ..., 0., 0., 0.],\n",
      "          [0., 0., 0.,  ..., 0., 0., 0.],\n",
      "          ...,\n",
      "          [0., 0., 0.,  ..., 0., 0., 0.],\n",
      "          [0., 0., 0.,  ..., 0., 0., 0.],\n",
      "          [0., 0., 0.,  ..., 0., 0., 0.]]],\n",
      "\n",
      "\n",
      "        [[[0., 0., 0.,  ..., 0., 0., 0.],\n",
      "          [0., 0., 0.,  ..., 0., 0., 0.],\n",
      "          [0., 0., 0.,  ..., 0., 0., 0.],\n",
      "          ...,\n",
      "          [0., 0., 0.,  ..., 0., 0., 0.],\n",
      "          [0., 0., 0.,  ..., 0., 0., 0.],\n",
      "          [0., 0., 0.,  ..., 0., 0., 0.]]],\n",
      "\n",
      "\n",
      "        [[[0., 0., 0.,  ..., 0., 0., 0.],\n",
      "          [0., 0., 0.,  ..., 0., 0., 0.],\n",
      "          [0., 0., 0.,  ..., 0., 0., 0.],\n",
      "          ...,\n",
      "          [0., 0., 0.,  ..., 0., 0., 0.],\n",
      "          [0., 0., 0.,  ..., 0., 0., 0.],\n",
      "          [0., 0., 0.,  ..., 0., 0., 0.]]],\n",
      "\n",
      "\n",
      "        ...,\n",
      "\n",
      "\n",
      "        [[[0., 0., 0.,  ..., 0., 0., 0.],\n",
      "          [0., 0., 0.,  ..., 0., 0., 0.],\n",
      "          [0., 0., 0.,  ..., 0., 0., 0.],\n",
      "          ...,\n",
      "          [0., 0., 0.,  ..., 0., 0., 0.],\n",
      "          [0., 0., 0.,  ..., 0., 0., 0.],\n",
      "          [0., 0., 0.,  ..., 0., 0., 0.]]],\n",
      "\n",
      "\n",
      "        [[[0., 0., 0.,  ..., 0., 0., 0.],\n",
      "          [0., 0., 0.,  ..., 0., 0., 0.],\n",
      "          [0., 0., 0.,  ..., 0., 0., 0.],\n",
      "          ...,\n",
      "          [0., 0., 0.,  ..., 0., 0., 0.],\n",
      "          [0., 0., 0.,  ..., 0., 0., 0.],\n",
      "          [0., 0., 0.,  ..., 0., 0., 0.]]],\n",
      "\n",
      "\n",
      "        [[[0., 0., 0.,  ..., 0., 0., 0.],\n",
      "          [0., 0., 0.,  ..., 0., 0., 0.],\n",
      "          [0., 0., 0.,  ..., 0., 0., 0.],\n",
      "          ...,\n",
      "          [0., 0., 0.,  ..., 0., 0., 0.],\n",
      "          [0., 0., 0.,  ..., 0., 0., 0.],\n",
      "          [0., 0., 0.,  ..., 0., 0., 0.]]]]), tensor([8, 5, 3, 3, 1, 8, 9, 8, 4, 3])]\n"
     ]
    }
   ],
   "source": [
    "print(type(trainset))\n",
    "\n",
    "\"\"\"\n",
    "trainset is a DataLoader\n",
    "data are 2 Tensors\n",
    "\n",
    "First Tensor is all of the \"raw data\", the 2nd and last tensor are the labels corresponding to the data in the first tensor\n",
    "\"\"\"\n",
    "\n",
    "\n",
    "for data in trainset:\n",
    "    print(data)\n",
    "    break"
   ]
  },
  {
   "cell_type": "code",
   "execution_count": 54,
   "metadata": {},
   "outputs": [
    {
     "name": "stdout",
     "output_type": "stream",
     "text": [
      "tensor(8)\n"
     ]
    }
   ],
   "source": [
    "x,y = data[0][0], data[1][0]\n",
    "\n",
    "print(y)"
   ]
  },
  {
   "cell_type": "code",
   "execution_count": 55,
   "metadata": {},
   "outputs": [
    {
     "name": "stdout",
     "output_type": "stream",
     "text": [
      "torch.Size([1, 28, 28])\n"
     ]
    }
   ],
   "source": [
    "print(data[0][0].shape)"
   ]
  },
  {
   "cell_type": "code",
   "execution_count": 56,
   "metadata": {},
   "outputs": [
    {
     "data": {
      "image/png": "[encoded data removed]",
      "text/plain": [
       "<Figure size 432x288 with 1 Axes>"
      ]
     },
     "metadata": {
      "needs_background": "light"
     },
     "output_type": "display_data"
    }
   ],
   "source": [
    "#above we see that data[0][0] has shape ([1,28,28]), which is a rank 3 tensor, so if we want to plto this and see how it \n",
    "#looks on matplotlib we have to change it's shape using view() to a \"2d format\"  \n",
    "\n",
    "plt.imshow(data[0][0].view(28,28))\n",
    "plt.show()"
   ]
  },
  {
   "cell_type": "code",
   "execution_count": 57,
   "metadata": {},
   "outputs": [
    {
     "name": "stdout",
     "output_type": "stream",
     "text": [
      "{0: 5923, 1: 6742, 2: 5958, 3: 6131, 4: 5842, 5: 5421, 6: 5918, 7: 6265, 8: 5851, 9: 5949}\n"
     ]
    }
   ],
   "source": [
    "# verifying balance in data set\n",
    "\n",
    "total = 0 \n",
    "dict = {0:0, \n",
    "        1:0, \n",
    "        2:0,  \n",
    "        3:0, \n",
    "        4:0, \n",
    "        5:0, \n",
    "        6:0, \n",
    "        7:0, \n",
    "        8:0, \n",
    "        9:0, \n",
    "       }\n",
    "\n",
    "\n",
    "for data in trainset: \n",
    "    for d in data[1]:\n",
    "        dict[int(d)] += 1\n",
    "        total += 1\n",
    "\n",
    "print(dict)\n",
    "        "
   ]
  },
  {
   "cell_type": "code",
   "execution_count": 58,
   "metadata": {},
   "outputs": [
    {
     "name": "stdout",
     "output_type": "stream",
     "text": [
      "0: percentage of 9.87%\n",
      "1: percentage of 11.24%\n",
      "2: percentage of 9.93%\n",
      "3: percentage of 10.22%\n",
      "4: percentage of 9.74%\n",
      "5: percentage of 9.04%\n",
      "6: percentage of 9.86%\n",
      "7: percentage of 10.44%\n",
      "8: percentage of 9.75%\n",
      "9: percentage of 9.92%\n"
     ]
    }
   ],
   "source": [
    "for i in dict:\n",
    "    print(\"{}: percentage of {:.2f}%\".format(i,dict[i]/total * 100))"
   ]
  },
  {
   "cell_type": "code",
   "execution_count": 59,
   "metadata": {
    "scrolled": true
   },
   "outputs": [
    {
     "name": "stdout",
     "output_type": "stream",
     "text": [
      "Net(\n",
      "  (fc1): Linear(in_features=784, out_features=64, bias=True)\n",
      "  (fc2): Linear(in_features=64, out_features=64, bias=True)\n",
      "  (fc3): Linear(in_features=64, out_features=64, bias=True)\n",
      "  (fc4): Linear(in_features=64, out_features=10, bias=True)\n",
      ")\n"
     ]
    }
   ],
   "source": [
    "class Net(nn.Module):\n",
    "    def __init__(self):\n",
    "        super().__init__()\n",
    "        #nn.Linear(input, output)\n",
    "        #flatten the image into a column vector basically\n",
    "        #first layer takes in the input which is the 28^2=784 pixels\n",
    "        #the last layer which is fc4 must output 10 for the 10 possible digits\n",
    "        self.fc1 = nn.Linear(28*28, 64)\n",
    "        self.fc2 = nn.Linear(64, 64)\n",
    "        self.fc3 = nn.Linear(64, 64)\n",
    "        self.fc4 = nn.Linear(64, 10)\n",
    "        \n",
    "        \n",
    "        # relu Rectified linear unit\n",
    "        # activation function\n",
    "        \n",
    "        # softmax takes in the output vector and normalizes it to a probability distribution\n",
    "        # limits the output to 0 - 1 range\n",
    "        \n",
    "        \n",
    "        \n",
    "    def forward(self, x):\n",
    "        x = F.relu(self.fc1(x))\n",
    "        x = F.relu(self.fc2(x))\n",
    "        x = F.relu(self.fc3(x))\n",
    "        x = self.fc4(x)\n",
    "        return F.log_softmax(x, dim = 1)\n",
    "        \n",
    "\n",
    "        \n",
    "net = Net()\n",
    "print(net)\n",
    "        \n",
    "        "
   ]
  },
  {
   "cell_type": "code",
   "execution_count": 60,
   "metadata": {},
   "outputs": [],
   "source": [
    "X = torch.rand(28,28)\n",
    "\n",
    "# the -1 indicates that it can be an array of any size? interesting \n",
    "\n",
    "X = X.view(-1,784)"
   ]
  },
  {
   "cell_type": "code",
   "execution_count": 61,
   "metadata": {},
   "outputs": [
    {
     "data": {
      "text/plain": [
       "tensor([[-2.1557, -2.4043, -2.2592, -2.2558, -2.3653, -2.2763, -2.2992, -2.4266,\n",
       "         -2.3782, -2.2382]], grad_fn=<LogSoftmaxBackward>)"
      ]
     },
     "execution_count": 61,
     "metadata": {},
     "output_type": "execute_result"
    }
   ],
   "source": [
    "output = net(X)\n",
    "output"
   ]
  },
  {
   "cell_type": "code",
   "execution_count": 75,
   "metadata": {
    "scrolled": true
   },
   "outputs": [
    {
     "name": "stdout",
     "output_type": "stream",
     "text": [
      "tensor(0.0009, grad_fn=<NllLossBackward>)\n",
      "tensor(4.9776e-05, grad_fn=<NllLossBackward>)\n",
      "tensor(0., grad_fn=<NllLossBackward>)\n",
      "tensor(3.5763e-08, grad_fn=<NllLossBackward>)\n",
      "tensor(2.3842e-08, grad_fn=<NllLossBackward>)\n",
      "Time elapsed: 103.073 sec\n"
     ]
    }
   ],
   "source": [
    "# net.parameters talk about what is adjustable\n",
    "\n",
    "\n",
    "optimizer = optim.Adam(net.parameters(), lr = 0.0001)\n",
    "\n",
    "EPOCHS = 5\n",
    "start = time.time()\n",
    "for epoch in range(EPOCHS):\n",
    "    for data in trainset:\n",
    "        # data is a batch of featuresets and labels\n",
    "        X, y = data\n",
    "        net.zero_grad() # batches hep to generali\n",
    "        output = net(X.view(-1,28*28))\n",
    "        loss = F.nll_loss(output,y)\n",
    "        loss.backward()\n",
    "        optimizer.step()\n",
    "    print(loss)\n",
    "end = time.time()\n",
    "print(\"Time elapsed: {} sec\".format(round(end - start, 3)));\n",
    "        "
   ]
  },
  {
   "cell_type": "code",
   "execution_count": 76,
   "metadata": {},
   "outputs": [
    {
     "name": "stdout",
     "output_type": "stream",
     "text": [
      "Accuracy:  0.9796\n"
     ]
    }
   ],
   "source": [
    "correct = 0 \n",
    "total = 0\n",
    "\n",
    "with torch.no_grad():\n",
    "    for data in testset:\n",
    "        X, y = data\n",
    "        output = net(X.view(-1,784))\n",
    "        for idx, i in enumerate(output):\n",
    "            if torch.argmax(i) == y[idx]:\n",
    "                correct += 1 \n",
    "            total += 1\n",
    "\n",
    "print(\"Accuracy: \", correct/total)"
   ]
  },
  {
   "cell_type": "code",
   "execution_count": 77,
   "metadata": {},
   "outputs": [
    {
     "data": {
      "image/png": "[encoded data removed]",
      "text/plain": [
       "<Figure size 432x288 with 1 Axes>"
      ]
     },
     "metadata": {
      "needs_background": "light"
     },
     "output_type": "display_data"
    },
    {
     "name": "stdout",
     "output_type": "stream",
     "text": [
      "tensor(3)\n",
      "\n",
      "\n",
      "PREDICTION\n",
      "\n",
      "\n",
      "tensor(3, grad_fn=<NotImplemented>)\n"
     ]
    }
   ],
   "source": [
    "plt.imshow(X[0].view(28,28))\n",
    "plt.show()\n",
    "\n",
    "print(y[0])\n",
    "print(\"\\n\")\n",
    "print(\"PREDICTION\")\n",
    "print(\"\\n\")\n",
    "print(torch.argmax(net(X[0].view(-1,784))[0]))\n"
   ]
  },
  {
   "cell_type": "markdown",
   "metadata": {},
   "source": [
    "## Diff hyper params,\n",
    "\n",
    "- Epoch = 5, LR = 0.0001\n",
    "    - Accuracy: 0.9551\n",
    "    - Time: 97.705 sec\n",
    "    - loss over epoch\n",
    "        - tensor(0.1222, grad_fn=<NllLossBackward>)\n",
    "        - tensor(0.8047, grad_fn=<NllLossBackward>)\n",
    "        - tensor(0.1421, grad_fn=<NllLossBackward>)\n",
    "        - tensor(0.0839, grad_fn=<NllLossBackward>)\n",
    "        - tensor(0.0054, grad_fn=<NllLossBackward>)\n",
    "\n",
    "- Epoch = 5, LR = 0.0001\n",
    "    - Accuracy: 0.9796\n",
    "    - Time: 103.073\n",
    "    - loss over epoch\n",
    "        - tensor(0.0009, grad_fn=<NllLossBackward>)\n",
    "        - tensor(4.9776e-05, grad_fn=<NllLossBackward>)\n",
    "        - tensor(0., grad_fn=<NllLossBackward>)\n",
    "        - tensor(3.5763e-08, grad_fn=<NllLossBackward>)\n",
    "        - tensor(2.3842e-08, grad_fn=<NllLossBackward>)\n",
    "  \n",
    "- Epoch = 5, LR = 0.001\n",
    "    - Accuracy: 0.9719\n",
    "    - Time: 99.416 sec\n",
    "    - loss over epoch\n",
    "        - tensor(0.0303, grad_fn=<NllLossBackward>)\n",
    "        - tensor(0.7818, grad_fn=<NllLossBackward>)\n",
    "        - tensor(0.0120, grad_fn=<NllLossBackward>)\n",
    "        - tensor(0.0207, grad_fn=<NllLossBackward>)\n",
    "        - tensor(0.0039, grad_fn=<NllLossBackward>)\n",
    "\n",
    "- Epoch = 3, LR = 0.001\n",
    "    - Accuracy: 0.9742\n",
    "    - Time: 59.715 sec\n",
    "    - loss over epoch\n",
    "        - tensor(0.0018, grad_fn=<NllLossBackward>)\n",
    "        - tensor(0.0908, grad_fn=<NllLossBackward>)\n",
    "        - tensor(0.0017, grad_fn=<NllLossBackward>)\n",
    "    \n",
    "- Epoch = 3, LR = 0.0001\n",
    "    - Accuracy: 0.9789\n",
    "    - Time: 58.7 sec\n",
    "    - loss over epoch\n",
    "        - tensor(2.5272e-06, grad_fn=<NllLossBackward>)\n",
    "        - tensor(0.0005, grad_fn=<NllLossBackward>)\n",
    "        - tensor(0.0015, grad_fn=<NllLossBackward>)\n",
    "    \n",
    "\n",
    "- Seems very luck based with multiple tries with the same params, sometimes the NN find's it's minimum extremely fast, sometimes it pops out of the minimum even with a low LR, in one of the epochs, just have to hope it isn't the last I suppose. the time gains are interesting. \n",
    "    \n",
    "- Timing wise, O(E) makes sense this was done on CPU"
   ]
  },
  {
   "cell_type": "code",
   "execution_count": null,
   "metadata": {},
   "outputs": [],
   "source": []
  }
 ],
 "metadata": {
  "kernelspec": {
   "display_name": "Python 3",
   "language": "python",
   "name": "python3"
  },
  "language_info": {
   "codemirror_mode": {
    "name": "ipython",
    "version": 3
   },
   "file_extension": ".py",
   "mimetype": "text/x-python",
   "name": "python",
   "nbconvert_exporter": "python",
   "pygments_lexer": "ipython3",
   "version": "3.7.6"
  }
 },
 "nbformat": 4,
 "nbformat_minor": 4
}
